{
 "cells": [
  {
   "cell_type": "code",
   "execution_count": 1,
   "source": [
    "import datetime as dt\r\n",
    "import numpy as np\r\n",
    "import pandas as pd\r\n",
    "\r\n",
    "import sqlalchemy\r\n",
    "from sqlalchemy.ext.automap import automap_base\r\n",
    "from sqlalchemy.orm import Session\r\n",
    "from sqlalchemy import create_engine, func\r\n",
    "\r\n",
    "from flask import Flask,jsonify\r\n",
    "\r\n",
    "engine = create_engine(\"sqlite:///hawaii.sqlite\")\r\n",
    "\r\n",
    "Base = automap_base()\r\n",
    "\r\n",
    "Base.prepare(engine, reflect=True)\r\n",
    "\r\n",
    "Measurement = Base.classes.measurement\r\n",
    "Station = Base.classes.station\r\n",
    "\r\n",
    "session = Session(engine)\r\n",
    "\r\n",
    "app1 = Flask(__name__)\r\n",
    "\r\n",
    "@app1.route(\"/\")\r\n",
    "def welcome():\r\n",
    "    return(\r\n",
    "    '''\r\n",
    "    Welcome to the Climate Analysis API!\r\n",
    "    Available Routes:\r\n",
    "    /api/v1.0/precipitation\r\n",
    "    /api/v1.0/stations\r\n",
    "    /api/v1.0/tobs\r\n",
    "    /api/v1.0/temp/start/end\r\n",
    "    ''')"
   ],
   "outputs": [],
   "metadata": {}
  },
  {
   "cell_type": "code",
   "execution_count": null,
   "source": [],
   "outputs": [],
   "metadata": {}
  }
 ],
 "metadata": {
  "kernelspec": {
   "display_name": "PythonData",
   "language": "python",
   "name": "pythondata"
  },
  "language_info": {
   "codemirror_mode": {
    "name": "ipython",
    "version": 3
   },
   "file_extension": ".py",
   "mimetype": "text/x-python",
   "name": "python",
   "nbconvert_exporter": "python",
   "pygments_lexer": "ipython3",
   "version": "3.7.6"
  }
 },
 "nbformat": 4,
 "nbformat_minor": 4
}